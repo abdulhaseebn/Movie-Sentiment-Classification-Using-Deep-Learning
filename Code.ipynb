{
  "cells": [
    {
      "cell_type": "code",
      "execution_count": null,
      "metadata": {
        "id": "o9hV5r8ZCvSY"
      },
      "outputs": [],
      "source": [
        "import pandas as pd\n",
        "import numpy as np\n",
        "import re\n",
        "import pickle\n",
        "import tensorflow as tf\n",
        "from tensorflow.keras.models import Model\n",
        "from tensorflow.keras.layers import Input, Embedding, LSTM, Dense, TimeDistributed, AdditiveAttention, Concatenate, Attention\n",
        "from tensorflow.keras.preprocessing.text import Tokenizer\n",
        "from tensorflow.keras.preprocessing.sequence import pad_sequences\n",
        "from sklearn.model_selection import train_test_split\n",
        "from tensorflow.keras.optimizers import Adam\n",
        "from tensorflow.keras.callbacks import EarlyStopping, ModelCheckpoint\n",
        "from google.colab import drive"
      ]
    },
    {
      "cell_type": "code",
      "execution_count": null,
      "metadata": {
        "colab": {
          "base_uri": "https://localhost:8080/",
          "height": 73
        },
        "id": "GZ6ECzlgE-fi",
        "outputId": "456f04a3-8a60-4212-8abf-ea150b2706bd"
      },
      "outputs": [
        {
          "data": {
            "text/html": [
              "\n",
              "     <input type=\"file\" id=\"files-53bb48b0-273b-4dea-bd13-51d697c82126\" name=\"files[]\" multiple disabled\n",
              "        style=\"border:none\" />\n",
              "     <output id=\"result-53bb48b0-273b-4dea-bd13-51d697c82126\">\n",
              "      Upload widget is only available when the cell has been executed in the\n",
              "      current browser session. Please rerun this cell to enable.\n",
              "      </output>\n",
              "      <script>// Copyright 2017 Google LLC\n",
              "//\n",
              "// Licensed under the Apache License, Version 2.0 (the \"License\");\n",
              "// you may not use this file except in compliance with the License.\n",
              "// You may obtain a copy of the License at\n",
              "//\n",
              "//      http://www.apache.org/licenses/LICENSE-2.0\n",
              "//\n",
              "// Unless required by applicable law or agreed to in writing, software\n",
              "// distributed under the License is distributed on an \"AS IS\" BASIS,\n",
              "// WITHOUT WARRANTIES OR CONDITIONS OF ANY KIND, either express or implied.\n",
              "// See the License for the specific language governing permissions and\n",
              "// limitations under the License.\n",
              "\n",
              "/**\n",
              " * @fileoverview Helpers for google.colab Python module.\n",
              " */\n",
              "(function(scope) {\n",
              "function span(text, styleAttributes = {}) {\n",
              "  const element = document.createElement('span');\n",
              "  element.textContent = text;\n",
              "  for (const key of Object.keys(styleAttributes)) {\n",
              "    element.style[key] = styleAttributes[key];\n",
              "  }\n",
              "  return element;\n",
              "}\n",
              "\n",
              "// Max number of bytes which will be uploaded at a time.\n",
              "const MAX_PAYLOAD_SIZE = 100 * 1024;\n",
              "\n",
              "function _uploadFiles(inputId, outputId) {\n",
              "  const steps = uploadFilesStep(inputId, outputId);\n",
              "  const outputElement = document.getElementById(outputId);\n",
              "  // Cache steps on the outputElement to make it available for the next call\n",
              "  // to uploadFilesContinue from Python.\n",
              "  outputElement.steps = steps;\n",
              "\n",
              "  return _uploadFilesContinue(outputId);\n",
              "}\n",
              "\n",
              "// This is roughly an async generator (not supported in the browser yet),\n",
              "// where there are multiple asynchronous steps and the Python side is going\n",
              "// to poll for completion of each step.\n",
              "// This uses a Promise to block the python side on completion of each step,\n",
              "// then passes the result of the previous step as the input to the next step.\n",
              "function _uploadFilesContinue(outputId) {\n",
              "  const outputElement = document.getElementById(outputId);\n",
              "  const steps = outputElement.steps;\n",
              "\n",
              "  const next = steps.next(outputElement.lastPromiseValue);\n",
              "  return Promise.resolve(next.value.promise).then((value) => {\n",
              "    // Cache the last promise value to make it available to the next\n",
              "    // step of the generator.\n",
              "    outputElement.lastPromiseValue = value;\n",
              "    return next.value.response;\n",
              "  });\n",
              "}\n",
              "\n",
              "/**\n",
              " * Generator function which is called between each async step of the upload\n",
              " * process.\n",
              " * @param {string} inputId Element ID of the input file picker element.\n",
              " * @param {string} outputId Element ID of the output display.\n",
              " * @return {!Iterable<!Object>} Iterable of next steps.\n",
              " */\n",
              "function* uploadFilesStep(inputId, outputId) {\n",
              "  const inputElement = document.getElementById(inputId);\n",
              "  inputElement.disabled = false;\n",
              "\n",
              "  const outputElement = document.getElementById(outputId);\n",
              "  outputElement.innerHTML = '';\n",
              "\n",
              "  const pickedPromise = new Promise((resolve) => {\n",
              "    inputElement.addEventListener('change', (e) => {\n",
              "      resolve(e.target.files);\n",
              "    });\n",
              "  });\n",
              "\n",
              "  const cancel = document.createElement('button');\n",
              "  inputElement.parentElement.appendChild(cancel);\n",
              "  cancel.textContent = 'Cancel upload';\n",
              "  const cancelPromise = new Promise((resolve) => {\n",
              "    cancel.onclick = () => {\n",
              "      resolve(null);\n",
              "    };\n",
              "  });\n",
              "\n",
              "  // Wait for the user to pick the files.\n",
              "  const files = yield {\n",
              "    promise: Promise.race([pickedPromise, cancelPromise]),\n",
              "    response: {\n",
              "      action: 'starting',\n",
              "    }\n",
              "  };\n",
              "\n",
              "  cancel.remove();\n",
              "\n",
              "  // Disable the input element since further picks are not allowed.\n",
              "  inputElement.disabled = true;\n",
              "\n",
              "  if (!files) {\n",
              "    return {\n",
              "      response: {\n",
              "        action: 'complete',\n",
              "      }\n",
              "    };\n",
              "  }\n",
              "\n",
              "  for (const file of files) {\n",
              "    const li = document.createElement('li');\n",
              "    li.append(span(file.name, {fontWeight: 'bold'}));\n",
              "    li.append(span(\n",
              "        `(${file.type || 'n/a'}) - ${file.size} bytes, ` +\n",
              "        `last modified: ${\n",
              "            file.lastModifiedDate ? file.lastModifiedDate.toLocaleDateString() :\n",
              "                                    'n/a'} - `));\n",
              "    const percent = span('0% done');\n",
              "    li.appendChild(percent);\n",
              "\n",
              "    outputElement.appendChild(li);\n",
              "\n",
              "    const fileDataPromise = new Promise((resolve) => {\n",
              "      const reader = new FileReader();\n",
              "      reader.onload = (e) => {\n",
              "        resolve(e.target.result);\n",
              "      };\n",
              "      reader.readAsArrayBuffer(file);\n",
              "    });\n",
              "    // Wait for the data to be ready.\n",
              "    let fileData = yield {\n",
              "      promise: fileDataPromise,\n",
              "      response: {\n",
              "        action: 'continue',\n",
              "      }\n",
              "    };\n",
              "\n",
              "    // Use a chunked sending to avoid message size limits. See b/62115660.\n",
              "    let position = 0;\n",
              "    do {\n",
              "      const length = Math.min(fileData.byteLength - position, MAX_PAYLOAD_SIZE);\n",
              "      const chunk = new Uint8Array(fileData, position, length);\n",
              "      position += length;\n",
              "\n",
              "      const base64 = btoa(String.fromCharCode.apply(null, chunk));\n",
              "      yield {\n",
              "        response: {\n",
              "          action: 'append',\n",
              "          file: file.name,\n",
              "          data: base64,\n",
              "        },\n",
              "      };\n",
              "\n",
              "      let percentDone = fileData.byteLength === 0 ?\n",
              "          100 :\n",
              "          Math.round((position / fileData.byteLength) * 100);\n",
              "      percent.textContent = `${percentDone}% done`;\n",
              "\n",
              "    } while (position < fileData.byteLength);\n",
              "  }\n",
              "\n",
              "  // All done.\n",
              "  yield {\n",
              "    response: {\n",
              "      action: 'complete',\n",
              "    }\n",
              "  };\n",
              "}\n",
              "\n",
              "scope.google = scope.google || {};\n",
              "scope.google.colab = scope.google.colab || {};\n",
              "scope.google.colab._files = {\n",
              "  _uploadFiles,\n",
              "  _uploadFilesContinue,\n",
              "};\n",
              "})(self);\n",
              "</script> "
            ],
            "text/plain": [
              "<IPython.core.display.HTML object>"
            ]
          },
          "metadata": {},
          "output_type": "display_data"
        },
        {
          "name": "stdout",
          "output_type": "stream",
          "text": [
            "Saving medquad.csv to medquad.csv\n"
          ]
        }
      ],
      "source": [
        "from google.colab import files\n",
        "uploaded = files.upload()\n",
        "df = pd.read_csv('medquad.csv')"
      ]
    },
    {
      "cell_type": "code",
      "execution_count": null,
      "metadata": {
        "colab": {
          "base_uri": "https://localhost:8080/"
        },
        "id": "Qwd3tthJ_biX",
        "outputId": "f8a0dec5-e15e-4bac-8028-38220b267f30"
      },
      "outputs": [
        {
          "name": "stdout",
          "output_type": "stream",
          "text": [
            "Mounted at /content/drive\n"
          ]
        }
      ],
      "source": [
        "from google.colab import drive\n",
        "drive.mount('/content/drive')"
      ]
    },
    {
      "cell_type": "code",
      "execution_count": null,
      "metadata": {
        "id": "joau5p1hE-vK"
      },
      "outputs": [],
      "source": [
        "df = pd.read_csv('medquad.csv')"
      ]
    },
    {
      "cell_type": "code",
      "execution_count": null,
      "metadata": {
        "colab": {
          "base_uri": "https://localhost:8080/"
        },
        "id": "60WxVv7VE-_2",
        "outputId": "122d2695-ac42-48b1-d8e6-3d981607eb5d"
      },
      "outputs": [
        {
          "name": "stdout",
          "output_type": "stream",
          "text": [
            "Dataset shape: (16406, 4)\n",
            "First few rows of the dataset:\n",
            "                                 question  \\\n",
            "0                What is (are) Glaucoma ?   \n",
            "1                  What causes Glaucoma ?   \n",
            "2     What are the symptoms of Glaucoma ?   \n",
            "3  What are the treatments for Glaucoma ?   \n",
            "4                What is (are) Glaucoma ?   \n",
            "\n",
            "                                              answer           source  \\\n",
            "0  Glaucoma is a group of diseases that can damag...  NIHSeniorHealth   \n",
            "1  Nearly 2.7 million people have glaucoma, a lea...  NIHSeniorHealth   \n",
            "2  Symptoms of Glaucoma  Glaucoma can develop in ...  NIHSeniorHealth   \n",
            "3  Although open-angle glaucoma cannot be cured, ...  NIHSeniorHealth   \n",
            "4  Glaucoma is a group of diseases that can damag...  NIHSeniorHealth   \n",
            "\n",
            "  focus_area  \n",
            "0   Glaucoma  \n",
            "1   Glaucoma  \n",
            "2   Glaucoma  \n",
            "3   Glaucoma  \n",
            "4   Glaucoma  \n"
          ]
        }
      ],
      "source": [
        "print(\"Dataset shape:\", df.shape)\n",
        "print(\"First few rows of the dataset:\")\n",
        "print(df.head())"
      ]
    },
    {
      "cell_type": "code",
      "execution_count": null,
      "metadata": {
        "colab": {
          "base_uri": "https://localhost:8080/"
        },
        "id": "cfTtEjjyE_Pd",
        "outputId": "21bd3a42-5e3d-4d5d-dba2-4855d2519182"
      },
      "outputs": [
        {
          "name": "stdout",
          "output_type": "stream",
          "text": [
            "Dataset after dropping 'source' and 'focus_area':\n",
            "                                 question  \\\n",
            "0                What is (are) Glaucoma ?   \n",
            "1                  What causes Glaucoma ?   \n",
            "2     What are the symptoms of Glaucoma ?   \n",
            "3  What are the treatments for Glaucoma ?   \n",
            "4                What is (are) Glaucoma ?   \n",
            "\n",
            "                                              answer  \n",
            "0  Glaucoma is a group of diseases that can damag...  \n",
            "1  Nearly 2.7 million people have glaucoma, a lea...  \n",
            "2  Symptoms of Glaucoma  Glaucoma can develop in ...  \n",
            "3  Although open-angle glaucoma cannot be cured, ...  \n",
            "4  Glaucoma is a group of diseases that can damag...  \n"
          ]
        }
      ],
      "source": [
        "df = df.drop(columns=['source', 'focus_area'])\n",
        "print(\"Dataset after dropping 'source' and 'focus_area':\")\n",
        "print(df.head())"
      ]
    },
    {
      "cell_type": "code",
      "execution_count": null,
      "metadata": {
        "id": "7CR3THHUE_et"
      },
      "outputs": [],
      "source": [
        "def clean_text(text):\n",
        "    text = text.replace('\\n', ' ')  # Remove line breaks\n",
        "    text = re.sub(r'\\s+', ' ', text)  # Replace multiple spaces with a single space\n",
        "    text = text.lower()  # Convert to lowercase\n",
        "    text = re.sub(r'[^\\w\\s]', '', text)  # Remove special characters\n",
        "    return text.strip()"
      ]
    },
    {
      "cell_type": "code",
      "execution_count": null,
      "metadata": {
        "id": "izVZsWkeE_q0"
      },
      "outputs": [],
      "source": [
        "df['question'] = df['question'].fillna(\"\")\n",
        "df['answer'] = df['answer'].fillna(\"\")\n",
        "df['question'] = df['question'].apply(clean_text)\n",
        "df['answer'] = df['answer'].apply(clean_text)"
      ]
    },
    {
      "cell_type": "code",
      "execution_count": null,
      "metadata": {
        "id": "XAF0WoQmE_5I"
      },
      "outputs": [],
      "source": [
        "df = df.drop_duplicates(subset=['question', 'answer'])"
      ]
    },
    {
      "cell_type": "code",
      "execution_count": null,
      "metadata": {
        "id": "E7JvETNenZpx"
      },
      "outputs": [],
      "source": [
        "question_tokenizer = Tokenizer(num_words=10000, oov_token=\"<OOV>\")\n",
        "question_tokenizer.fit_on_texts(df['question'])\n",
        "question_sequences = question_tokenizer.texts_to_sequences(df['question'])"
      ]
    },
    {
      "cell_type": "code",
      "execution_count": null,
      "metadata": {
        "id": "Etjhc9vt2jCc"
      },
      "outputs": [],
      "source": [
        "answer_tokenizer = Tokenizer(num_words=10000, oov_token=\"<OOV>\")\n",
        "answer_tokenizer.fit_on_texts(df['answer'])\n",
        "answer_sequences = answer_tokenizer.texts_to_sequences(df['answer'])"
      ]
    },
    {
      "cell_type": "code",
      "execution_count": null,
      "metadata": {
        "id": "pCcDKEIanaAW"
      },
      "outputs": [],
      "source": [
        "max_question_length = 26\n",
        "max_answer_length = 150"
      ]
    },
    {
      "cell_type": "code",
      "execution_count": null,
      "metadata": {
        "id": "Y1bW4RKRnjq-"
      },
      "outputs": [],
      "source": [
        "padded_questions = pad_sequences(question_sequences, maxlen=max_question_length, padding='post')\n",
        "padded_answers = pad_sequences(answer_sequences, maxlen=max_answer_length, padding='post')"
      ]
    },
    {
      "cell_type": "code",
      "execution_count": null,
      "metadata": {
        "colab": {
          "base_uri": "https://localhost:8080/"
        },
        "id": "J-i_55YXFAk6",
        "outputId": "56456c37-76b8-4c7b-da37-4a3b2a4876bb"
      },
      "outputs": [
        {
          "name": "stdout",
          "output_type": "stream",
          "text": [
            "Train set shape: (13086, 26) (13086, 150)\n",
            "Test set shape: (3272, 26) (3272, 150)\n"
          ]
        }
      ],
      "source": [
        "X_train, X_test, y_train, y_test = train_test_split(\n",
        "    padded_questions, padded_answers, test_size=0.2, random_state=42\n",
        ")\n",
        "\n",
        "print(\"Train set shape:\", X_train.shape, y_train.shape)\n",
        "print(\"Test set shape:\", X_test.shape, y_test.shape)"
      ]
    },
    {
      "cell_type": "code",
      "execution_count": null,
      "metadata": {
        "id": "M1XW4UL_nzq1"
      },
      "outputs": [],
      "source": [
        "decoder_inputs_train = y_train[:, :-1]\n",
        "decoder_targets_train = y_train[:, 1:]\n",
        "decoder_inputs_test = y_test[:, :-1]\n",
        "decoder_targets_test = y_test[:, 1:]"
      ]
    },
    {
      "cell_type": "code",
      "execution_count": null,
      "metadata": {
        "id": "hgAFxzfpShPK"
      },
      "outputs": [],
      "source": [
        "question_vocab_size = len(question_tokenizer.word_index) + 1\n",
        "answer_vocab_size = len(answer_tokenizer.word_index) + 1"
      ]
    },
    {
      "cell_type": "code",
      "execution_count": null,
      "metadata": {
        "id": "nXM-PRc1Skzu"
      },
      "outputs": [],
      "source": [
        "encoder_inputs = Input(shape=(max_question_length,))\n",
        "encoder_embedding = Embedding(input_dim=question_vocab_size, output_dim=256)(encoder_inputs)\n",
        "encoder_lstm = LSTM(512, return_sequences=True, return_state=True)\n",
        "encoder_outputs, state_h, state_c = encoder_lstm(encoder_embedding)"
      ]
    },
    {
      "cell_type": "code",
      "execution_count": null,
      "metadata": {
        "id": "ord7RYzESnbG"
      },
      "outputs": [],
      "source": [
        "decoder_inputs = Input(shape=(max_answer_length - 1,))\n",
        "decoder_embedding = Embedding(input_dim=answer_vocab_size, output_dim=256)(decoder_inputs)\n",
        "decoder_lstm = LSTM(512, return_sequences=True, return_state=True)\n",
        "decoder_outputs, _, _ = decoder_lstm(decoder_embedding, initial_state=[state_h, state_c])"
      ]
    },
    {
      "cell_type": "code",
      "execution_count": null,
      "metadata": {
        "id": "iEBO2DxIMYeH"
      },
      "outputs": [],
      "source": [
        "attention = AdditiveAttention()\n",
        "attention_output = attention([decoder_outputs, encoder_outputs])\n",
        "decoder_combined_context = Concatenate(axis=-1)([decoder_outputs, attention_output])"
      ]
    },
    {
      "cell_type": "code",
      "execution_count": null,
      "metadata": {
        "id": "MSglLF2HMY7n"
      },
      "outputs": [],
      "source": [
        "decoder_dense = TimeDistributed(Dense(answer_vocab_size, activation='softmax'))\n",
        "decoder_outputs = decoder_dense(decoder_combined_context)"
      ]
    },
    {
      "cell_type": "code",
      "execution_count": null,
      "metadata": {
        "id": "Zv5FsDXtTFdu"
      },
      "outputs": [],
      "source": [
        "model = Model([encoder_inputs, decoder_inputs], decoder_outputs)\n",
        "model.compile(optimizer=Adam(learning_rate=0.001), loss='sparse_categorical_crossentropy', metrics=['accuracy'])"
      ]
    },
    {
      "cell_type": "code",
      "execution_count": null,
      "metadata": {
        "colab": {
          "base_uri": "https://localhost:8080/",
          "height": 545
        },
        "id": "71iWkLH4THUx",
        "outputId": "49d49674-64da-4557-b721-375b0881df05"
      },
      "outputs": [
        {
          "data": {
            "text/html": [
              "<pre style=\"white-space:pre;overflow-x:auto;line-height:normal;font-family:Menlo,'DejaVu Sans Mono',consolas,'Courier New',monospace\"><span style=\"font-weight: bold\">Model: \"functional\"</span>\n",
              "</pre>\n"
            ],
            "text/plain": [
              "\u001b[1mModel: \"functional\"\u001b[0m\n"
            ]
          },
          "metadata": {},
          "output_type": "display_data"
        },
        {
          "data": {
            "text/html": [
              "<pre style=\"white-space:pre;overflow-x:auto;line-height:normal;font-family:Menlo,'DejaVu Sans Mono',consolas,'Courier New',monospace\">┏━━━━━━━━━━━━━━━━━━━━━━━━━━━┳━━━━━━━━━━━━━━━━━━━━━━━━┳━━━━━━━━━━━━━━━━┳━━━━━━━━━━━━━━━━━━━━━━━━┓\n",
              "┃<span style=\"font-weight: bold\"> Layer (type)              </span>┃<span style=\"font-weight: bold\"> Output Shape           </span>┃<span style=\"font-weight: bold\">        Param # </span>┃<span style=\"font-weight: bold\"> Connected to           </span>┃\n",
              "┡━━━━━━━━━━━━━━━━━━━━━━━━━━━╇━━━━━━━━━━━━━━━━━━━━━━━━╇━━━━━━━━━━━━━━━━╇━━━━━━━━━━━━━━━━━━━━━━━━┩\n",
              "│ input_layer (<span style=\"color: #0087ff; text-decoration-color: #0087ff\">InputLayer</span>)  │ (<span style=\"color: #00d7ff; text-decoration-color: #00d7ff\">None</span>, <span style=\"color: #00af00; text-decoration-color: #00af00\">26</span>)             │              <span style=\"color: #00af00; text-decoration-color: #00af00\">0</span> │ -                      │\n",
              "├───────────────────────────┼────────────────────────┼────────────────┼────────────────────────┤\n",
              "│ input_layer_1             │ (<span style=\"color: #00d7ff; text-decoration-color: #00d7ff\">None</span>, <span style=\"color: #00af00; text-decoration-color: #00af00\">149</span>)            │              <span style=\"color: #00af00; text-decoration-color: #00af00\">0</span> │ -                      │\n",
              "│ (<span style=\"color: #0087ff; text-decoration-color: #0087ff\">InputLayer</span>)              │                        │                │                        │\n",
              "├───────────────────────────┼────────────────────────┼────────────────┼────────────────────────┤\n",
              "│ embedding (<span style=\"color: #0087ff; text-decoration-color: #0087ff\">Embedding</span>)     │ (<span style=\"color: #00d7ff; text-decoration-color: #00d7ff\">None</span>, <span style=\"color: #00af00; text-decoration-color: #00af00\">26</span>, <span style=\"color: #00af00; text-decoration-color: #00af00\">256</span>)        │      <span style=\"color: #00af00; text-decoration-color: #00af00\">1,208,832</span> │ input_layer[<span style=\"color: #00af00; text-decoration-color: #00af00\">0</span>][<span style=\"color: #00af00; text-decoration-color: #00af00\">0</span>]      │\n",
              "├───────────────────────────┼────────────────────────┼────────────────┼────────────────────────┤\n",
              "│ embedding_1 (<span style=\"color: #0087ff; text-decoration-color: #0087ff\">Embedding</span>)   │ (<span style=\"color: #00d7ff; text-decoration-color: #00d7ff\">None</span>, <span style=\"color: #00af00; text-decoration-color: #00af00\">149</span>, <span style=\"color: #00af00; text-decoration-color: #00af00\">256</span>)       │      <span style=\"color: #00af00; text-decoration-color: #00af00\">8,414,464</span> │ input_layer_1[<span style=\"color: #00af00; text-decoration-color: #00af00\">0</span>][<span style=\"color: #00af00; text-decoration-color: #00af00\">0</span>]    │\n",
              "├───────────────────────────┼────────────────────────┼────────────────┼────────────────────────┤\n",
              "│ lstm (<span style=\"color: #0087ff; text-decoration-color: #0087ff\">LSTM</span>)               │ [(<span style=\"color: #00d7ff; text-decoration-color: #00d7ff\">None</span>, <span style=\"color: #00af00; text-decoration-color: #00af00\">26</span>, <span style=\"color: #00af00; text-decoration-color: #00af00\">512</span>),      │      <span style=\"color: #00af00; text-decoration-color: #00af00\">1,574,912</span> │ embedding[<span style=\"color: #00af00; text-decoration-color: #00af00\">0</span>][<span style=\"color: #00af00; text-decoration-color: #00af00\">0</span>]        │\n",
              "│                           │ (<span style=\"color: #00d7ff; text-decoration-color: #00d7ff\">None</span>, <span style=\"color: #00af00; text-decoration-color: #00af00\">512</span>), (<span style=\"color: #00d7ff; text-decoration-color: #00d7ff\">None</span>,    │                │                        │\n",
              "│                           │ <span style=\"color: #00af00; text-decoration-color: #00af00\">512</span>)]                  │                │                        │\n",
              "├───────────────────────────┼────────────────────────┼────────────────┼────────────────────────┤\n",
              "│ lstm_1 (<span style=\"color: #0087ff; text-decoration-color: #0087ff\">LSTM</span>)             │ [(<span style=\"color: #00d7ff; text-decoration-color: #00d7ff\">None</span>, <span style=\"color: #00af00; text-decoration-color: #00af00\">149</span>, <span style=\"color: #00af00; text-decoration-color: #00af00\">512</span>),     │      <span style=\"color: #00af00; text-decoration-color: #00af00\">1,574,912</span> │ embedding_1[<span style=\"color: #00af00; text-decoration-color: #00af00\">0</span>][<span style=\"color: #00af00; text-decoration-color: #00af00\">0</span>],     │\n",
              "│                           │ (<span style=\"color: #00d7ff; text-decoration-color: #00d7ff\">None</span>, <span style=\"color: #00af00; text-decoration-color: #00af00\">512</span>), (<span style=\"color: #00d7ff; text-decoration-color: #00d7ff\">None</span>,    │                │ lstm[<span style=\"color: #00af00; text-decoration-color: #00af00\">0</span>][<span style=\"color: #00af00; text-decoration-color: #00af00\">1</span>], lstm[<span style=\"color: #00af00; text-decoration-color: #00af00\">0</span>][<span style=\"color: #00af00; text-decoration-color: #00af00\">2</span>] │\n",
              "│                           │ <span style=\"color: #00af00; text-decoration-color: #00af00\">512</span>)]                  │                │                        │\n",
              "├───────────────────────────┼────────────────────────┼────────────────┼────────────────────────┤\n",
              "│ attention (<span style=\"color: #0087ff; text-decoration-color: #0087ff\">Attention</span>)     │ (<span style=\"color: #00d7ff; text-decoration-color: #00d7ff\">None</span>, <span style=\"color: #00af00; text-decoration-color: #00af00\">149</span>, <span style=\"color: #00af00; text-decoration-color: #00af00\">512</span>)       │              <span style=\"color: #00af00; text-decoration-color: #00af00\">0</span> │ lstm_1[<span style=\"color: #00af00; text-decoration-color: #00af00\">0</span>][<span style=\"color: #00af00; text-decoration-color: #00af00\">0</span>],          │\n",
              "│                           │                        │                │ lstm[<span style=\"color: #00af00; text-decoration-color: #00af00\">0</span>][<span style=\"color: #00af00; text-decoration-color: #00af00\">0</span>]             │\n",
              "├───────────────────────────┼────────────────────────┼────────────────┼────────────────────────┤\n",
              "│ concatenate (<span style=\"color: #0087ff; text-decoration-color: #0087ff\">Concatenate</span>) │ (<span style=\"color: #00d7ff; text-decoration-color: #00d7ff\">None</span>, <span style=\"color: #00af00; text-decoration-color: #00af00\">149</span>, <span style=\"color: #00af00; text-decoration-color: #00af00\">1024</span>)      │              <span style=\"color: #00af00; text-decoration-color: #00af00\">0</span> │ lstm_1[<span style=\"color: #00af00; text-decoration-color: #00af00\">0</span>][<span style=\"color: #00af00; text-decoration-color: #00af00\">0</span>],          │\n",
              "│                           │                        │                │ attention[<span style=\"color: #00af00; text-decoration-color: #00af00\">0</span>][<span style=\"color: #00af00; text-decoration-color: #00af00\">0</span>]        │\n",
              "├───────────────────────────┼────────────────────────┼────────────────┼────────────────────────┤\n",
              "│ time_distributed          │ (<span style=\"color: #00d7ff; text-decoration-color: #00d7ff\">None</span>, <span style=\"color: #00af00; text-decoration-color: #00af00\">149</span>, <span style=\"color: #00af00; text-decoration-color: #00af00\">32869</span>)     │     <span style=\"color: #00af00; text-decoration-color: #00af00\">33,690,725</span> │ concatenate[<span style=\"color: #00af00; text-decoration-color: #00af00\">0</span>][<span style=\"color: #00af00; text-decoration-color: #00af00\">0</span>]      │\n",
              "│ (<span style=\"color: #0087ff; text-decoration-color: #0087ff\">TimeDistributed</span>)         │                        │                │                        │\n",
              "└───────────────────────────┴────────────────────────┴────────────────┴────────────────────────┘\n",
              "</pre>\n"
            ],
            "text/plain": [
              "┏━━━━━━━━━━━━━━━━━━━━━━━━━━━┳━━━━━━━━━━━━━━━━━━━━━━━━┳━━━━━━━━━━━━━━━━┳━━━━━━━━━━━━━━━━━━━━━━━━┓\n",
              "┃\u001b[1m \u001b[0m\u001b[1mLayer (type)             \u001b[0m\u001b[1m \u001b[0m┃\u001b[1m \u001b[0m\u001b[1mOutput Shape          \u001b[0m\u001b[1m \u001b[0m┃\u001b[1m \u001b[0m\u001b[1m       Param #\u001b[0m\u001b[1m \u001b[0m┃\u001b[1m \u001b[0m\u001b[1mConnected to          \u001b[0m\u001b[1m \u001b[0m┃\n",
              "┡━━━━━━━━━━━━━━━━━━━━━━━━━━━╇━━━━━━━━━━━━━━━━━━━━━━━━╇━━━━━━━━━━━━━━━━╇━━━━━━━━━━━━━━━━━━━━━━━━┩\n",
              "│ input_layer (\u001b[38;5;33mInputLayer\u001b[0m)  │ (\u001b[38;5;45mNone\u001b[0m, \u001b[38;5;34m26\u001b[0m)             │              \u001b[38;5;34m0\u001b[0m │ -                      │\n",
              "├───────────────────────────┼────────────────────────┼────────────────┼────────────────────────┤\n",
              "│ input_layer_1             │ (\u001b[38;5;45mNone\u001b[0m, \u001b[38;5;34m149\u001b[0m)            │              \u001b[38;5;34m0\u001b[0m │ -                      │\n",
              "│ (\u001b[38;5;33mInputLayer\u001b[0m)              │                        │                │                        │\n",
              "├───────────────────────────┼────────────────────────┼────────────────┼────────────────────────┤\n",
              "│ embedding (\u001b[38;5;33mEmbedding\u001b[0m)     │ (\u001b[38;5;45mNone\u001b[0m, \u001b[38;5;34m26\u001b[0m, \u001b[38;5;34m256\u001b[0m)        │      \u001b[38;5;34m1,208,832\u001b[0m │ input_layer[\u001b[38;5;34m0\u001b[0m][\u001b[38;5;34m0\u001b[0m]      │\n",
              "├───────────────────────────┼────────────────────────┼────────────────┼────────────────────────┤\n",
              "│ embedding_1 (\u001b[38;5;33mEmbedding\u001b[0m)   │ (\u001b[38;5;45mNone\u001b[0m, \u001b[38;5;34m149\u001b[0m, \u001b[38;5;34m256\u001b[0m)       │      \u001b[38;5;34m8,414,464\u001b[0m │ input_layer_1[\u001b[38;5;34m0\u001b[0m][\u001b[38;5;34m0\u001b[0m]    │\n",
              "├───────────────────────────┼────────────────────────┼────────────────┼────────────────────────┤\n",
              "│ lstm (\u001b[38;5;33mLSTM\u001b[0m)               │ [(\u001b[38;5;45mNone\u001b[0m, \u001b[38;5;34m26\u001b[0m, \u001b[38;5;34m512\u001b[0m),      │      \u001b[38;5;34m1,574,912\u001b[0m │ embedding[\u001b[38;5;34m0\u001b[0m][\u001b[38;5;34m0\u001b[0m]        │\n",
              "│                           │ (\u001b[38;5;45mNone\u001b[0m, \u001b[38;5;34m512\u001b[0m), (\u001b[38;5;45mNone\u001b[0m,    │                │                        │\n",
              "│                           │ \u001b[38;5;34m512\u001b[0m)]                  │                │                        │\n",
              "├───────────────────────────┼────────────────────────┼────────────────┼────────────────────────┤\n",
              "│ lstm_1 (\u001b[38;5;33mLSTM\u001b[0m)             │ [(\u001b[38;5;45mNone\u001b[0m, \u001b[38;5;34m149\u001b[0m, \u001b[38;5;34m512\u001b[0m),     │      \u001b[38;5;34m1,574,912\u001b[0m │ embedding_1[\u001b[38;5;34m0\u001b[0m][\u001b[38;5;34m0\u001b[0m],     │\n",
              "│                           │ (\u001b[38;5;45mNone\u001b[0m, \u001b[38;5;34m512\u001b[0m), (\u001b[38;5;45mNone\u001b[0m,    │                │ lstm[\u001b[38;5;34m0\u001b[0m][\u001b[38;5;34m1\u001b[0m], lstm[\u001b[38;5;34m0\u001b[0m][\u001b[38;5;34m2\u001b[0m] │\n",
              "│                           │ \u001b[38;5;34m512\u001b[0m)]                  │                │                        │\n",
              "├───────────────────────────┼────────────────────────┼────────────────┼────────────────────────┤\n",
              "│ attention (\u001b[38;5;33mAttention\u001b[0m)     │ (\u001b[38;5;45mNone\u001b[0m, \u001b[38;5;34m149\u001b[0m, \u001b[38;5;34m512\u001b[0m)       │              \u001b[38;5;34m0\u001b[0m │ lstm_1[\u001b[38;5;34m0\u001b[0m][\u001b[38;5;34m0\u001b[0m],          │\n",
              "│                           │                        │                │ lstm[\u001b[38;5;34m0\u001b[0m][\u001b[38;5;34m0\u001b[0m]             │\n",
              "├───────────────────────────┼────────────────────────┼────────────────┼────────────────────────┤\n",
              "│ concatenate (\u001b[38;5;33mConcatenate\u001b[0m) │ (\u001b[38;5;45mNone\u001b[0m, \u001b[38;5;34m149\u001b[0m, \u001b[38;5;34m1024\u001b[0m)      │              \u001b[38;5;34m0\u001b[0m │ lstm_1[\u001b[38;5;34m0\u001b[0m][\u001b[38;5;34m0\u001b[0m],          │\n",
              "│                           │                        │                │ attention[\u001b[38;5;34m0\u001b[0m][\u001b[38;5;34m0\u001b[0m]        │\n",
              "├───────────────────────────┼────────────────────────┼────────────────┼────────────────────────┤\n",
              "│ time_distributed          │ (\u001b[38;5;45mNone\u001b[0m, \u001b[38;5;34m149\u001b[0m, \u001b[38;5;34m32869\u001b[0m)     │     \u001b[38;5;34m33,690,725\u001b[0m │ concatenate[\u001b[38;5;34m0\u001b[0m][\u001b[38;5;34m0\u001b[0m]      │\n",
              "│ (\u001b[38;5;33mTimeDistributed\u001b[0m)         │                        │                │                        │\n",
              "└───────────────────────────┴────────────────────────┴────────────────┴────────────────────────┘\n"
            ]
          },
          "metadata": {},
          "output_type": "display_data"
        },
        {
          "data": {
            "text/html": [
              "<pre style=\"white-space:pre;overflow-x:auto;line-height:normal;font-family:Menlo,'DejaVu Sans Mono',consolas,'Courier New',monospace\"><span style=\"font-weight: bold\"> Total params: </span><span style=\"color: #00af00; text-decoration-color: #00af00\">46,463,845</span> (177.25 MB)\n",
              "</pre>\n"
            ],
            "text/plain": [
              "\u001b[1m Total params: \u001b[0m\u001b[38;5;34m46,463,845\u001b[0m (177.25 MB)\n"
            ]
          },
          "metadata": {},
          "output_type": "display_data"
        },
        {
          "data": {
            "text/html": [
              "<pre style=\"white-space:pre;overflow-x:auto;line-height:normal;font-family:Menlo,'DejaVu Sans Mono',consolas,'Courier New',monospace\"><span style=\"font-weight: bold\"> Trainable params: </span><span style=\"color: #00af00; text-decoration-color: #00af00\">46,463,845</span> (177.25 MB)\n",
              "</pre>\n"
            ],
            "text/plain": [
              "\u001b[1m Trainable params: \u001b[0m\u001b[38;5;34m46,463,845\u001b[0m (177.25 MB)\n"
            ]
          },
          "metadata": {},
          "output_type": "display_data"
        },
        {
          "data": {
            "text/html": [
              "<pre style=\"white-space:pre;overflow-x:auto;line-height:normal;font-family:Menlo,'DejaVu Sans Mono',consolas,'Courier New',monospace\"><span style=\"font-weight: bold\"> Non-trainable params: </span><span style=\"color: #00af00; text-decoration-color: #00af00\">0</span> (0.00 B)\n",
              "</pre>\n"
            ],
            "text/plain": [
              "\u001b[1m Non-trainable params: \u001b[0m\u001b[38;5;34m0\u001b[0m (0.00 B)\n"
            ]
          },
          "metadata": {},
          "output_type": "display_data"
        }
      ],
      "source": [
        "model.summary()"
      ]
    },
    {
      "cell_type": "code",
      "execution_count": null,
      "metadata": {
        "id": "u3XqH6GHTOmH"
      },
      "outputs": [],
      "source": [
        "checkpoint_callback = ModelCheckpoint(\"/content/drive/MyDrive/lstm_attention_model.keras\", save_best_only=True)\n",
        "early_stopping = EarlyStopping(monitor='val_loss', patience=5, restore_best_weights=True)"
      ]
    },
    {
      "cell_type": "code",
      "execution_count": null,
      "metadata": {
        "colab": {
          "base_uri": "https://localhost:8080/"
        },
        "id": "7GwURuNBTTBY",
        "outputId": "87118f82-9e9b-486c-e5be-17fb323a2d6c"
      },
      "outputs": [
        {
          "name": "stdout",
          "output_type": "stream",
          "text": [
            "Epoch 1/25\n",
            "\u001b[1m328/328\u001b[0m \u001b[32m━━━━━━━━━━━━━━━━━━━━\u001b[0m\u001b[37m\u001b[0m \u001b[1m73s\u001b[0m 184ms/step - accuracy: 0.3045 - loss: 5.3466 - val_accuracy: 0.4872 - val_loss: 3.6500\n",
            "Epoch 2/25\n",
            "\u001b[1m328/328\u001b[0m \u001b[32m━━━━━━━━━━━━━━━━━━━━\u001b[0m\u001b[37m\u001b[0m \u001b[1m58s\u001b[0m 178ms/step - accuracy: 0.5094 - loss: 3.4363 - val_accuracy: 0.5505 - val_loss: 2.9922\n",
            "Epoch 3/25\n",
            "\u001b[1m328/328\u001b[0m \u001b[32m━━━━━━━━━━━━━━━━━━━━\u001b[0m\u001b[37m\u001b[0m \u001b[1m58s\u001b[0m 177ms/step - accuracy: 0.5602 - loss: 2.8458 - val_accuracy: 0.5761 - val_loss: 2.7155\n",
            "Epoch 4/25\n",
            "\u001b[1m328/328\u001b[0m \u001b[32m━━━━━━━━━━━━━━━━━━━━\u001b[0m\u001b[37m\u001b[0m \u001b[1m58s\u001b[0m 177ms/step - accuracy: 0.5850 - loss: 2.5445 - val_accuracy: 0.5926 - val_loss: 2.5468\n",
            "Epoch 5/25\n",
            "\u001b[1m328/328\u001b[0m \u001b[32m━━━━━━━━━━━━━━━━━━━━\u001b[0m\u001b[37m\u001b[0m \u001b[1m58s\u001b[0m 177ms/step - accuracy: 0.6046 - loss: 2.3184 - val_accuracy: 0.6044 - val_loss: 2.4372\n",
            "Epoch 6/25\n",
            "\u001b[1m328/328\u001b[0m \u001b[32m━━━━━━━━━━━━━━━━━━━━\u001b[0m\u001b[37m\u001b[0m \u001b[1m58s\u001b[0m 177ms/step - accuracy: 0.6176 - loss: 2.1616 - val_accuracy: 0.6125 - val_loss: 2.3624\n",
            "Epoch 7/25\n",
            "\u001b[1m328/328\u001b[0m \u001b[32m━━━━━━━━━━━━━━━━━━━━\u001b[0m\u001b[37m\u001b[0m \u001b[1m58s\u001b[0m 177ms/step - accuracy: 0.6294 - loss: 2.0211 - val_accuracy: 0.6186 - val_loss: 2.3079\n",
            "Epoch 8/25\n",
            "\u001b[1m328/328\u001b[0m \u001b[32m━━━━━━━━━━━━━━━━━━━━\u001b[0m\u001b[37m\u001b[0m \u001b[1m58s\u001b[0m 177ms/step - accuracy: 0.6495 - loss: 1.8568 - val_accuracy: 0.6241 - val_loss: 2.2662\n",
            "Epoch 9/25\n",
            "\u001b[1m328/328\u001b[0m \u001b[32m━━━━━━━━━━━━━━━━━━━━\u001b[0m\u001b[37m\u001b[0m \u001b[1m58s\u001b[0m 177ms/step - accuracy: 0.6548 - loss: 1.7826 - val_accuracy: 0.6277 - val_loss: 2.2407\n",
            "Epoch 10/25\n",
            "\u001b[1m328/328\u001b[0m \u001b[32m━━━━━━━━━━━━━━━━━━━━\u001b[0m\u001b[37m\u001b[0m \u001b[1m58s\u001b[0m 177ms/step - accuracy: 0.6728 - loss: 1.6503 - val_accuracy: 0.6301 - val_loss: 2.2203\n",
            "Epoch 11/25\n",
            "\u001b[1m328/328\u001b[0m \u001b[32m━━━━━━━━━━━━━━━━━━━━\u001b[0m\u001b[37m\u001b[0m \u001b[1m58s\u001b[0m 177ms/step - accuracy: 0.6858 - loss: 1.5557 - val_accuracy: 0.6320 - val_loss: 2.2099\n",
            "Epoch 12/25\n",
            "\u001b[1m328/328\u001b[0m \u001b[32m━━━━━━━━━━━━━━━━━━━━\u001b[0m\u001b[37m\u001b[0m \u001b[1m58s\u001b[0m 177ms/step - accuracy: 0.6923 - loss: 1.4994 - val_accuracy: 0.6338 - val_loss: 2.2010\n",
            "Epoch 13/25\n",
            "\u001b[1m328/328\u001b[0m \u001b[32m━━━━━━━━━━━━━━━━━━━━\u001b[0m\u001b[37m\u001b[0m \u001b[1m58s\u001b[0m 177ms/step - accuracy: 0.7033 - loss: 1.4236 - val_accuracy: 0.6355 - val_loss: 2.1955\n",
            "Epoch 14/25\n",
            "\u001b[1m328/328\u001b[0m \u001b[32m━━━━━━━━━━━━━━━━━━━━\u001b[0m\u001b[37m\u001b[0m \u001b[1m55s\u001b[0m 169ms/step - accuracy: 0.7161 - loss: 1.3463 - val_accuracy: 0.6352 - val_loss: 2.1991\n",
            "Epoch 15/25\n",
            "\u001b[1m328/328\u001b[0m \u001b[32m━━━━━━━━━━━━━━━━━━━━\u001b[0m\u001b[37m\u001b[0m \u001b[1m55s\u001b[0m 169ms/step - accuracy: 0.7328 - loss: 1.2526 - val_accuracy: 0.6366 - val_loss: 2.2023\n",
            "Epoch 16/25\n",
            "\u001b[1m328/328\u001b[0m \u001b[32m━━━━━━━━━━━━━━━━━━━━\u001b[0m\u001b[37m\u001b[0m \u001b[1m55s\u001b[0m 169ms/step - accuracy: 0.7418 - loss: 1.2023 - val_accuracy: 0.6365 - val_loss: 2.2096\n",
            "Epoch 17/25\n",
            "\u001b[1m328/328\u001b[0m \u001b[32m━━━━━━━━━━━━━━━━━━━━\u001b[0m\u001b[37m\u001b[0m \u001b[1m55s\u001b[0m 169ms/step - accuracy: 0.7502 - loss: 1.1544 - val_accuracy: 0.6374 - val_loss: 2.2198\n",
            "Epoch 18/25\n",
            "\u001b[1m328/328\u001b[0m \u001b[32m━━━━━━━━━━━━━━━━━━━━\u001b[0m\u001b[37m\u001b[0m \u001b[1m55s\u001b[0m 169ms/step - accuracy: 0.7610 - loss: 1.0944 - val_accuracy: 0.6373 - val_loss: 2.2342\n"
          ]
        }
      ],
      "source": [
        "history = model.fit(\n",
        "    [X_train, decoder_inputs_train],\n",
        "    decoder_targets_train[:, :, np.newaxis],\n",
        "    epochs=25,\n",
        "    batch_size=32,\n",
        "    validation_split=0.2,\n",
        "    callbacks=[early_stopping, checkpoint_callback]\n",
        ")"
      ]
    },
    {
      "cell_type": "code",
      "execution_count": null,
      "metadata": {
        "colab": {
          "base_uri": "https://localhost:8080/",
          "height": 504
        },
        "id": "bMmwsVNTrG5k",
        "outputId": "9d73366f-a4a4-424a-b242-c93c4c87d895"
      },
      "outputs": [
        {
          "data": {
            "image/png": "[encoded data removed]",
            "text/plain": [
              "<Figure size 1000x500 with 2 Axes>"
            ]
          },
          "metadata": {},
          "output_type": "display_data"
        },
        {
          "name": "stdout",
          "output_type": "stream",
          "text": [
            "✅ Training graph saved as /content/drive/MyDrive/training_plot.png\n"
          ]
        }
      ],
      "source": [
        "import matplotlib.pyplot as plt\n",
        "epochs = range(1, len(history.history['loss']) + 1)\n",
        "plt.figure(figsize=(10, 5))\n",
        "\n",
        "# ✅ Plot Loss\n",
        "plt.subplot(1, 2, 1)\n",
        "plt.plot(epochs, history.history['loss'], 'bo-', label='Training Loss')\n",
        "plt.plot(epochs, history.history['val_loss'], 'r*-', label='Validation Loss')\n",
        "plt.xlabel('Epochs')\n",
        "plt.ylabel('Loss')\n",
        "plt.title('Training & Validation Loss')\n",
        "plt.legend()\n",
        "\n",
        "# ✅ Plot Accuracy\n",
        "plt.subplot(1, 2, 2)\n",
        "plt.plot(epochs, history.history['accuracy'], 'bo-', label='Training Accuracy')\n",
        "plt.plot(epochs, history.history['val_accuracy'], 'r*-', label='Validation Accuracy')\n",
        "plt.xlabel('Epochs')\n",
        "plt.ylabel('Accuracy')\n",
        "plt.title('Training & Validation Accuracy')\n",
        "plt.legend()\n",
        "\n",
        "# ✅ Save Image to Google Drive\n",
        "plot_path = \"/content/drive/MyDrive/training_plot.png\"\n",
        "plt.savefig(plot_path, dpi=300)\n",
        "plt.show()\n",
        "\n",
        "print(f\"✅ Training graph saved as {plot_path}\")"
      ]
    },
    {
      "cell_type": "code",
      "execution_count": null,
      "metadata": {
        "colab": {
          "base_uri": "https://localhost:8080/"
        },
        "id": "m8vd6yfHwrvB",
        "outputId": "99a2c6d2-655e-4f6a-e5fb-b207e9a2daa1"
      },
      "outputs": [
        {
          "name": "stdout",
          "output_type": "stream",
          "text": [
            "✅ GPU memory growth enabled!\n"
          ]
        }
      ],
      "source": [
        "import tensorflow as tf\n",
        "\n",
        "# ✅ Check available GPUs\n",
        "gpus = tf.config.list_physical_devices('GPU')\n",
        "if gpus:\n",
        "    try:\n",
        "        # ✅ Enable memory growth (prevents crashes)\n",
        "        for gpu in gpus:\n",
        "            tf.config.experimental.set_memory_growth(gpu, True)\n",
        "        print(\"✅ GPU memory growth enabled!\")\n",
        "    except RuntimeError as e:\n",
        "        print(f\"⚠️ Error setting GPU memory growth: {e}\")\n",
        "else:\n",
        "    print(\"❌ No GPU detected! Check runtime settings.\")\n"
      ]
    },
    {
      "cell_type": "code",
      "execution_count": null,
      "metadata": {
        "colab": {
          "base_uri": "https://localhost:8080/"
        },
        "id": "6hOA7ttvuB4K",
        "outputId": "633daebc-da87-4ece-e970-360916cb96e1"
      },
      "outputs": [
        {
          "name": "stdout",
          "output_type": "stream",
          "text": [
            "✅ Model loaded successfully!\n",
            "✅ Saved batch 0/3272 to Drive\n",
            "✅ Saved batch 16/3272 to Drive\n",
            "✅ Saved batch 32/3272 to Drive\n",
            "✅ Saved batch 48/3272 to Drive\n",
            "✅ Saved batch 64/3272 to Drive\n",
            "✅ Saved batch 80/3272 to Drive\n",
            "✅ Saved batch 96/3272 to Drive\n",
            "✅ Saved batch 112/3272 to Drive\n",
            "✅ Saved batch 128/3272 to Drive\n",
            "✅ Saved batch 144/3272 to Drive\n",
            "✅ Saved batch 160/3272 to Drive\n",
            "✅ Saved batch 176/3272 to Drive\n",
            "✅ Saved batch 192/3272 to Drive\n",
            "✅ Saved batch 208/3272 to Drive\n",
            "✅ Saved batch 224/3272 to Drive\n",
            "✅ Saved batch 240/3272 to Drive\n",
            "✅ Saved batch 256/3272 to Drive\n",
            "✅ Saved batch 272/3272 to Drive\n",
            "✅ Saved batch 288/3272 to Drive\n",
            "✅ Saved batch 304/3272 to Drive\n",
            "✅ Saved batch 320/3272 to Drive\n",
            "✅ Saved batch 336/3272 to Drive\n",
            "✅ Saved batch 352/3272 to Drive\n",
            "✅ Saved batch 368/3272 to Drive\n",
            "✅ Saved batch 384/3272 to Drive\n",
            "✅ Saved batch 400/3272 to Drive\n",
            "✅ Saved batch 416/3272 to Drive\n",
            "✅ Saved batch 432/3272 to Drive\n",
            "✅ Saved batch 448/3272 to Drive\n",
            "✅ Saved batch 464/3272 to Drive\n",
            "✅ Saved batch 480/3272 to Drive\n",
            "✅ Saved batch 496/3272 to Drive\n",
            "✅ Saved batch 512/3272 to Drive\n",
            "✅ Saved batch 528/3272 to Drive\n",
            "✅ Saved batch 544/3272 to Drive\n",
            "✅ Saved batch 560/3272 to Drive\n",
            "✅ Saved batch 576/3272 to Drive\n",
            "✅ Saved batch 592/3272 to Drive\n",
            "✅ Saved batch 608/3272 to Drive\n",
            "✅ Saved batch 624/3272 to Drive\n",
            "✅ Saved batch 640/3272 to Drive\n",
            "✅ Saved batch 656/3272 to Drive\n",
            "✅ Saved batch 672/3272 to Drive\n",
            "✅ Saved batch 688/3272 to Drive\n",
            "✅ Saved batch 704/3272 to Drive\n",
            "✅ Saved batch 720/3272 to Drive\n",
            "✅ Saved batch 736/3272 to Drive\n",
            "✅ Saved batch 752/3272 to Drive\n",
            "✅ Saved batch 768/3272 to Drive\n",
            "✅ Saved batch 784/3272 to Drive\n",
            "✅ Saved batch 800/3272 to Drive\n",
            "✅ Saved batch 816/3272 to Drive\n",
            "✅ Saved batch 832/3272 to Drive\n",
            "✅ Saved batch 848/3272 to Drive\n",
            "✅ Saved batch 864/3272 to Drive\n",
            "✅ Saved batch 880/3272 to Drive\n",
            "✅ Saved batch 896/3272 to Drive\n",
            "✅ Saved batch 912/3272 to Drive\n",
            "✅ Saved batch 928/3272 to Drive\n",
            "✅ Saved batch 944/3272 to Drive\n",
            "✅ Saved batch 960/3272 to Drive\n",
            "✅ Saved batch 976/3272 to Drive\n",
            "✅ Saved batch 992/3272 to Drive\n",
            "✅ Saved batch 1008/3272 to Drive\n",
            "✅ Saved batch 1024/3272 to Drive\n",
            "✅ Saved batch 1040/3272 to Drive\n",
            "✅ Saved batch 1056/3272 to Drive\n",
            "✅ Saved batch 1072/3272 to Drive\n",
            "✅ Saved batch 1088/3272 to Drive\n",
            "✅ Saved batch 1104/3272 to Drive\n",
            "✅ Saved batch 1120/3272 to Drive\n",
            "✅ Saved batch 1136/3272 to Drive\n",
            "✅ Saved batch 1152/3272 to Drive\n",
            "✅ Saved batch 1168/3272 to Drive\n",
            "✅ Saved batch 1184/3272 to Drive\n",
            "✅ Saved batch 1200/3272 to Drive\n",
            "✅ Saved batch 1216/3272 to Drive\n",
            "✅ Saved batch 1232/3272 to Drive\n",
            "✅ Saved batch 1248/3272 to Drive\n",
            "✅ Saved batch 1264/3272 to Drive\n",
            "✅ Saved batch 1280/3272 to Drive\n",
            "✅ Saved batch 1296/3272 to Drive\n",
            "✅ Saved batch 1312/3272 to Drive\n",
            "✅ Saved batch 1328/3272 to Drive\n",
            "✅ Saved batch 1344/3272 to Drive\n",
            "✅ Saved batch 1360/3272 to Drive\n",
            "✅ Saved batch 1376/3272 to Drive\n",
            "✅ Saved batch 1392/3272 to Drive\n",
            "✅ Saved batch 1408/3272 to Drive\n",
            "✅ Saved batch 1424/3272 to Drive\n",
            "✅ Saved batch 1440/3272 to Drive\n",
            "✅ Saved batch 1456/3272 to Drive\n",
            "✅ Saved batch 1472/3272 to Drive\n",
            "✅ Saved batch 1488/3272 to Drive\n",
            "✅ Saved batch 1504/3272 to Drive\n",
            "✅ Saved batch 1520/3272 to Drive\n",
            "✅ Saved batch 1536/3272 to Drive\n",
            "✅ Saved batch 1552/3272 to Drive\n",
            "✅ Saved batch 1568/3272 to Drive\n",
            "✅ Saved batch 1584/3272 to Drive\n",
            "✅ Saved batch 1600/3272 to Drive\n",
            "✅ Saved batch 1616/3272 to Drive\n",
            "✅ Saved batch 1632/3272 to Drive\n",
            "✅ Saved batch 1648/3272 to Drive\n",
            "✅ Saved batch 1664/3272 to Drive\n",
            "✅ Saved batch 1680/3272 to Drive\n",
            "✅ Saved batch 1696/3272 to Drive\n",
            "✅ Saved batch 1712/3272 to Drive\n",
            "✅ Saved batch 1728/3272 to Drive\n",
            "✅ Saved batch 1744/3272 to Drive\n",
            "✅ Saved batch 1760/3272 to Drive\n",
            "✅ Saved batch 1776/3272 to Drive\n",
            "✅ Saved batch 1792/3272 to Drive\n",
            "✅ Saved batch 1808/3272 to Drive\n",
            "✅ Saved batch 1824/3272 to Drive\n",
            "✅ Saved batch 1840/3272 to Drive\n",
            "✅ Saved batch 1856/3272 to Drive\n",
            "✅ Saved batch 1872/3272 to Drive\n",
            "✅ Saved batch 1888/3272 to Drive\n",
            "✅ Saved batch 1904/3272 to Drive\n",
            "✅ Saved batch 1920/3272 to Drive\n",
            "✅ Saved batch 1936/3272 to Drive\n",
            "✅ Saved batch 1952/3272 to Drive\n",
            "✅ Saved batch 1968/3272 to Drive\n",
            "✅ Saved batch 1984/3272 to Drive\n",
            "✅ Saved batch 2000/3272 to Drive\n",
            "✅ Saved batch 2016/3272 to Drive\n",
            "✅ Saved batch 2032/3272 to Drive\n",
            "✅ Saved batch 2048/3272 to Drive\n",
            "✅ Saved batch 2064/3272 to Drive\n",
            "✅ Saved batch 2080/3272 to Drive\n",
            "✅ Saved batch 2096/3272 to Drive\n",
            "✅ Saved batch 2112/3272 to Drive\n",
            "✅ Saved batch 2128/3272 to Drive\n",
            "✅ Saved batch 2144/3272 to Drive\n",
            "✅ Saved batch 2160/3272 to Drive\n",
            "✅ Saved batch 2176/3272 to Drive\n",
            "✅ Saved batch 2192/3272 to Drive\n",
            "✅ Saved batch 2208/3272 to Drive\n",
            "✅ Saved batch 2224/3272 to Drive\n",
            "✅ Saved batch 2240/3272 to Drive\n",
            "✅ Saved batch 2256/3272 to Drive\n",
            "✅ Saved batch 2272/3272 to Drive\n",
            "✅ Saved batch 2288/3272 to Drive\n",
            "✅ Saved batch 2304/3272 to Drive\n",
            "✅ Saved batch 2320/3272 to Drive\n",
            "✅ Saved batch 2336/3272 to Drive\n",
            "✅ Saved batch 2352/3272 to Drive\n",
            "✅ Saved batch 2368/3272 to Drive\n",
            "✅ Saved batch 2384/3272 to Drive\n",
            "✅ Saved batch 2400/3272 to Drive\n",
            "✅ Saved batch 2416/3272 to Drive\n",
            "✅ Saved batch 2432/3272 to Drive\n",
            "✅ Saved batch 2448/3272 to Drive\n",
            "✅ Saved batch 2464/3272 to Drive\n",
            "✅ Saved batch 2480/3272 to Drive\n",
            "✅ Saved batch 2496/3272 to Drive\n",
            "✅ Saved batch 2512/3272 to Drive\n",
            "✅ Saved batch 2528/3272 to Drive\n",
            "✅ Saved batch 2544/3272 to Drive\n",
            "✅ Saved batch 2560/3272 to Drive\n",
            "✅ Saved batch 2576/3272 to Drive\n",
            "✅ Saved batch 2592/3272 to Drive\n",
            "✅ Saved batch 2608/3272 to Drive\n",
            "✅ Saved batch 2624/3272 to Drive\n",
            "✅ Saved batch 2640/3272 to Drive\n",
            "✅ Saved batch 2656/3272 to Drive\n",
            "✅ Saved batch 2672/3272 to Drive\n",
            "✅ Saved batch 2688/3272 to Drive\n",
            "✅ Saved batch 2704/3272 to Drive\n",
            "✅ Saved batch 2720/3272 to Drive\n",
            "✅ Saved batch 2736/3272 to Drive\n",
            "✅ Saved batch 2752/3272 to Drive\n",
            "✅ Saved batch 2768/3272 to Drive\n",
            "✅ Saved batch 2784/3272 to Drive\n",
            "✅ Saved batch 2800/3272 to Drive\n",
            "✅ Saved batch 2816/3272 to Drive\n",
            "✅ Saved batch 2832/3272 to Drive\n",
            "✅ Saved batch 2848/3272 to Drive\n",
            "✅ Saved batch 2864/3272 to Drive\n",
            "✅ Saved batch 2880/3272 to Drive\n",
            "✅ Saved batch 2896/3272 to Drive\n",
            "✅ Saved batch 2912/3272 to Drive\n",
            "✅ Saved batch 2928/3272 to Drive\n",
            "✅ Saved batch 2944/3272 to Drive\n",
            "✅ Saved batch 2960/3272 to Drive\n",
            "✅ Saved batch 2976/3272 to Drive\n",
            "✅ Saved batch 2992/3272 to Drive\n",
            "✅ Saved batch 3008/3272 to Drive\n",
            "✅ Saved batch 3024/3272 to Drive\n",
            "✅ Saved batch 3040/3272 to Drive\n",
            "✅ Saved batch 3056/3272 to Drive\n",
            "✅ Saved batch 3072/3272 to Drive\n",
            "✅ Saved batch 3088/3272 to Drive\n",
            "✅ Saved batch 3104/3272 to Drive\n",
            "✅ Saved batch 3120/3272 to Drive\n",
            "✅ Saved batch 3136/3272 to Drive\n",
            "✅ Saved batch 3152/3272 to Drive\n",
            "✅ Saved batch 3168/3272 to Drive\n",
            "✅ Saved batch 3184/3272 to Drive\n",
            "✅ Saved batch 3200/3272 to Drive\n",
            "✅ Saved batch 3216/3272 to Drive\n",
            "✅ Saved batch 3232/3272 to Drive\n",
            "✅ Saved batch 3248/3272 to Drive\n",
            "✅ Saved batch 3264/3272 to Drive\n"
          ]
        }
      ],
      "source": [
        "import numpy as np\n",
        "import pickle\n",
        "import tensorflow as tf\n",
        "import gc\n",
        "import os\n",
        "\n",
        "# ✅ Load Model\n",
        "model = tf.keras.models.load_model(\"/content/drive/MyDrive/lstm_attention_model.keras\")\n",
        "print(\"✅ Model loaded successfully!\")\n",
        "\n",
        "# ✅ Load Test Data & Tokenizer\n",
        "with open(\"/content/drive/MyDrive/X_test.pkl\", \"rb\") as f:\n",
        "    X_test = pickle.load(f)\n",
        "\n",
        "with open(\"/content/drive/MyDrive/y_test.pkl\", \"rb\") as f:\n",
        "    y_test = pickle.load(f)\n",
        "\n",
        "with open(\"/content/drive/MyDrive/answer_tokenizer.pkl\", \"rb\") as f:\n",
        "    answer_tokenizer = pickle.load(f)\n",
        "\n",
        "# ✅ Set batch size (Reduce if OOM occurs)\n",
        "batch_size = 16\n",
        "predictions_path = \"/content/drive/MyDrive/predictions_batches\"\n",
        "\n",
        "# ✅ Create folder for saving batches\n",
        "if not os.path.exists(predictions_path):\n",
        "    os.makedirs(predictions_path)\n",
        "\n",
        "with tf.device('/GPU:0'):\n",
        "    for i in range(0, len(X_test), batch_size):\n",
        "        batch_X = X_test[i:i + batch_size]\n",
        "        batch_decoder_inputs = y_test[i:i + batch_size, :-1]\n",
        "\n",
        "        try:\n",
        "            # ✅ Predict batch-wise\n",
        "            batch_predictions = model.predict_on_batch([batch_X, batch_decoder_inputs])\n",
        "\n",
        "            # ✅ Save each batch separately (Avoids huge memory use)\n",
        "            np.savez_compressed(f\"{predictions_path}/batch_{i}.npz\", predictions=batch_predictions)\n",
        "\n",
        "            print(f\"✅ Saved batch {i}/{len(X_test)} to Drive\")\n",
        "\n",
        "            # ✅ Free memory\n",
        "            del batch_predictions, batch_X, batch_decoder_inputs\n",
        "            gc.collect()\n",
        "            tf.keras.backend.clear_session()\n",
        "\n",
        "        except tf.errors.ResourceExhaustedError:\n",
        "            print(f\"❌ GPU OOM error! Reduce batch size.\")\n",
        "            break  # Stop execution if GPU crashes\n"
      ]
    },
    {
      "cell_type": "code",
      "execution_count": null,
      "metadata": {
        "colab": {
          "base_uri": "https://localhost:8080/"
        },
        "id": "xSi4EzUsbeVi",
        "outputId": "9c873204-a98d-4f0e-9f48-0f50734e0928"
      },
      "outputs": [
        {
          "name": "stdout",
          "output_type": "stream",
          "text": [
            "✅ Processed & Deleted batch_0.npz\n",
            "✅ Processed & Deleted batch_1008.npz\n",
            "✅ Processed & Deleted batch_1024.npz\n",
            "✅ Processed & Deleted batch_1040.npz\n",
            "✅ Processed & Deleted batch_1056.npz\n",
            "✅ Processed & Deleted batch_1072.npz\n",
            "✅ Processed & Deleted batch_1088.npz\n",
            "✅ Processed & Deleted batch_1104.npz\n",
            "✅ Processed & Deleted batch_112.npz\n",
            "✅ Processed & Deleted batch_1120.npz\n",
            "✅ Processed & Deleted batch_1136.npz\n",
            "✅ Processed & Deleted batch_1152.npz\n",
            "✅ Processed & Deleted batch_1168.npz\n",
            "✅ Processed & Deleted batch_1184.npz\n",
            "✅ Processed & Deleted batch_1200.npz\n",
            "✅ Processed & Deleted batch_1216.npz\n",
            "✅ Processed & Deleted batch_1232.npz\n",
            "✅ Processed & Deleted batch_1248.npz\n",
            "✅ Processed & Deleted batch_1264.npz\n",
            "✅ Processed & Deleted batch_128.npz\n"
          ]
        },
        {
          "name": "stderr",
          "output_type": "stream",
          "text": [
            "/usr/local/lib/python3.11/dist-packages/sklearn/metrics/_ranking.py:1033: UserWarning: No positive class found in y_true, recall is set to one for all thresholds.\n",
            "  warnings.warn(\n"
          ]
        },
        {
          "name": "stdout",
          "output_type": "stream",
          "text": [
            "✅ Processed & Deleted batch_1280.npz\n",
            "✅ Processed & Deleted batch_1296.npz\n",
            "✅ Processed & Deleted batch_1312.npz\n",
            "✅ Processed & Deleted batch_1328.npz\n",
            "✅ Processed & Deleted batch_1344.npz\n",
            "✅ Processed & Deleted batch_1360.npz\n",
            "✅ Processed & Deleted batch_1376.npz\n",
            "✅ Processed & Deleted batch_1392.npz\n",
            "✅ Processed & Deleted batch_1408.npz\n",
            "✅ Processed & Deleted batch_1424.npz\n",
            "✅ Processed & Deleted batch_144.npz\n",
            "✅ Processed & Deleted batch_1440.npz\n",
            "✅ Processed & Deleted batch_1456.npz\n",
            "✅ Processed & Deleted batch_1472.npz\n",
            "✅ Processed & Deleted batch_1488.npz\n",
            "✅ Processed & Deleted batch_1504.npz\n",
            "✅ Processed & Deleted batch_1520.npz\n",
            "✅ Processed & Deleted batch_1536.npz\n",
            "✅ Processed & Deleted batch_1552.npz\n",
            "✅ Processed & Deleted batch_1568.npz\n",
            "✅ Processed & Deleted batch_1584.npz\n",
            "✅ Processed & Deleted batch_16.npz\n",
            "✅ Processed & Deleted batch_160.npz\n",
            "✅ Processed & Deleted batch_1600.npz\n",
            "✅ Processed & Deleted batch_1616.npz\n",
            "✅ Processed & Deleted batch_1632.npz\n",
            "✅ Processed & Deleted batch_1648.npz\n",
            "✅ Processed & Deleted batch_1664.npz\n",
            "✅ Processed & Deleted batch_1680.npz\n",
            "✅ Processed & Deleted batch_1696.npz\n",
            "✅ Processed & Deleted batch_1712.npz\n",
            "✅ Processed & Deleted batch_1728.npz\n",
            "✅ Processed & Deleted batch_1744.npz\n",
            "✅ Processed & Deleted batch_176.npz\n",
            "✅ Processed & Deleted batch_1760.npz\n",
            "✅ Processed & Deleted batch_1776.npz\n",
            "✅ Processed & Deleted batch_1792.npz\n",
            "✅ Processed & Deleted batch_1808.npz\n"
          ]
        },
        {
          "name": "stderr",
          "output_type": "stream",
          "text": [
            "/usr/local/lib/python3.11/dist-packages/sklearn/metrics/_ranking.py:1033: UserWarning: No positive class found in y_true, recall is set to one for all thresholds.\n",
            "  warnings.warn(\n"
          ]
        },
        {
          "name": "stdout",
          "output_type": "stream",
          "text": [
            "✅ Processed & Deleted batch_1824.npz\n",
            "✅ Processed & Deleted batch_1840.npz\n",
            "✅ Processed & Deleted batch_1856.npz\n",
            "✅ Processed & Deleted batch_1872.npz\n",
            "✅ Processed & Deleted batch_1888.npz\n",
            "✅ Processed & Deleted batch_1904.npz\n",
            "✅ Processed & Deleted batch_192.npz\n",
            "✅ Processed & Deleted batch_1920.npz\n",
            "✅ Processed & Deleted batch_1936.npz\n",
            "✅ Processed & Deleted batch_1952.npz\n",
            "✅ Processed & Deleted batch_1968.npz\n",
            "✅ Processed & Deleted batch_1984.npz\n",
            "✅ Processed & Deleted batch_2000.npz\n",
            "✅ Processed & Deleted batch_2016.npz\n",
            "✅ Processed & Deleted batch_2032.npz\n",
            "✅ Processed & Deleted batch_2048.npz\n"
          ]
        },
        {
          "name": "stderr",
          "output_type": "stream",
          "text": [
            "/usr/local/lib/python3.11/dist-packages/sklearn/metrics/_ranking.py:1033: UserWarning: No positive class found in y_true, recall is set to one for all thresholds.\n",
            "  warnings.warn(\n"
          ]
        },
        {
          "name": "stdout",
          "output_type": "stream",
          "text": [
            "✅ Processed & Deleted batch_2064.npz\n",
            "✅ Processed & Deleted batch_208.npz\n",
            "✅ Processed & Deleted batch_2080.npz\n",
            "✅ Processed & Deleted batch_2096.npz\n",
            "✅ Processed & Deleted batch_2112.npz\n",
            "✅ Processed & Deleted batch_2128.npz\n",
            "✅ Processed & Deleted batch_2144.npz\n",
            "✅ Processed & Deleted batch_2160.npz\n",
            "✅ Processed & Deleted batch_2176.npz\n",
            "✅ Processed & Deleted batch_2192.npz\n",
            "✅ Processed & Deleted batch_2208.npz\n",
            "✅ Processed & Deleted batch_2224.npz\n",
            "✅ Processed & Deleted batch_224.npz\n",
            "✅ Processed & Deleted batch_2240.npz\n",
            "✅ Processed & Deleted batch_2256.npz\n",
            "✅ Processed & Deleted batch_2272.npz\n",
            "✅ Processed & Deleted batch_2288.npz\n",
            "✅ Processed & Deleted batch_2304.npz\n",
            "✅ Processed & Deleted batch_2320.npz\n",
            "✅ Processed & Deleted batch_2336.npz\n",
            "✅ Processed & Deleted batch_2352.npz\n",
            "✅ Processed & Deleted batch_2368.npz\n",
            "✅ Processed & Deleted batch_2384.npz\n",
            "✅ Processed & Deleted batch_240.npz\n",
            "✅ Processed & Deleted batch_2400.npz\n",
            "✅ Processed & Deleted batch_2416.npz\n",
            "✅ Processed & Deleted batch_2432.npz\n",
            "✅ Processed & Deleted batch_2448.npz\n",
            "✅ Processed & Deleted batch_2464.npz\n",
            "✅ Processed & Deleted batch_2480.npz\n",
            "✅ Processed & Deleted batch_2496.npz\n",
            "✅ Processed & Deleted batch_2512.npz\n",
            "✅ Processed & Deleted batch_2528.npz\n",
            "✅ Processed & Deleted batch_2544.npz\n",
            "✅ Processed & Deleted batch_256.npz\n",
            "✅ Processed & Deleted batch_2560.npz\n",
            "✅ Processed & Deleted batch_2576.npz\n",
            "✅ Processed & Deleted batch_2592.npz\n",
            "✅ Processed & Deleted batch_2608.npz\n",
            "✅ Processed & Deleted batch_2624.npz\n",
            "✅ Processed & Deleted batch_2640.npz\n",
            "✅ Processed & Deleted batch_2656.npz\n",
            "✅ Processed & Deleted batch_2672.npz\n",
            "✅ Processed & Deleted batch_2688.npz\n",
            "✅ Processed & Deleted batch_2704.npz\n",
            "✅ Processed & Deleted batch_272.npz\n",
            "✅ Processed & Deleted batch_2720.npz\n",
            "✅ Processed & Deleted batch_2736.npz\n",
            "✅ Processed & Deleted batch_2752.npz\n",
            "✅ Processed & Deleted batch_2768.npz\n",
            "✅ Processed & Deleted batch_2784.npz\n",
            "✅ Processed & Deleted batch_2800.npz\n",
            "✅ Processed & Deleted batch_2816.npz\n",
            "✅ Processed & Deleted batch_2832.npz\n",
            "✅ Processed & Deleted batch_2848.npz\n",
            "✅ Processed & Deleted batch_2864.npz\n",
            "✅ Processed & Deleted batch_288.npz\n"
          ]
        },
        {
          "name": "stderr",
          "output_type": "stream",
          "text": [
            "/usr/local/lib/python3.11/dist-packages/sklearn/metrics/_ranking.py:1033: UserWarning: No positive class found in y_true, recall is set to one for all thresholds.\n",
            "  warnings.warn(\n"
          ]
        },
        {
          "name": "stdout",
          "output_type": "stream",
          "text": [
            "✅ Processed & Deleted batch_2880.npz\n",
            "✅ Processed & Deleted batch_2896.npz\n",
            "✅ Processed & Deleted batch_2912.npz\n",
            "✅ Processed & Deleted batch_2928.npz\n",
            "✅ Processed & Deleted batch_2944.npz\n",
            "✅ Processed & Deleted batch_2960.npz\n",
            "✅ Processed & Deleted batch_2976.npz\n",
            "✅ Processed & Deleted batch_2992.npz\n"
          ]
        },
        {
          "name": "stderr",
          "output_type": "stream",
          "text": [
            "/usr/local/lib/python3.11/dist-packages/sklearn/metrics/_ranking.py:1033: UserWarning: No positive class found in y_true, recall is set to one for all thresholds.\n",
            "  warnings.warn(\n"
          ]
        },
        {
          "name": "stdout",
          "output_type": "stream",
          "text": [
            "✅ Processed & Deleted batch_3008.npz\n",
            "✅ Processed & Deleted batch_3024.npz\n",
            "✅ Processed & Deleted batch_304.npz\n",
            "✅ Processed & Deleted batch_3040.npz\n",
            "✅ Processed & Deleted batch_3056.npz\n",
            "✅ Processed & Deleted batch_3072.npz\n",
            "✅ Processed & Deleted batch_3088.npz\n",
            "✅ Processed & Deleted batch_3104.npz\n",
            "✅ Processed & Deleted batch_3120.npz\n",
            "✅ Processed & Deleted batch_3136.npz\n",
            "✅ Processed & Deleted batch_3152.npz\n",
            "✅ Processed & Deleted batch_3168.npz\n",
            "✅ Processed & Deleted batch_3184.npz\n"
          ]
        },
        {
          "name": "stderr",
          "output_type": "stream",
          "text": [
            "/usr/local/lib/python3.11/dist-packages/sklearn/metrics/_ranking.py:1033: UserWarning: No positive class found in y_true, recall is set to one for all thresholds.\n",
            "  warnings.warn(\n"
          ]
        },
        {
          "name": "stdout",
          "output_type": "stream",
          "text": [
            "✅ Processed & Deleted batch_32.npz\n",
            "✅ Processed & Deleted batch_320.npz\n",
            "✅ Processed & Deleted batch_3200.npz\n",
            "✅ Processed & Deleted batch_3216.npz\n",
            "✅ Processed & Deleted batch_3232.npz\n",
            "✅ Processed & Deleted batch_3248.npz\n",
            "✅ Processed & Deleted batch_3264.npz\n"
          ]
        },
        {
          "name": "stderr",
          "output_type": "stream",
          "text": [
            "/usr/local/lib/python3.11/dist-packages/sklearn/metrics/_ranking.py:1033: UserWarning: No positive class found in y_true, recall is set to one for all thresholds.\n",
            "  warnings.warn(\n"
          ]
        },
        {
          "name": "stdout",
          "output_type": "stream",
          "text": [
            "✅ Processed & Deleted batch_336.npz\n",
            "✅ Processed & Deleted batch_352.npz\n",
            "✅ Processed & Deleted batch_368.npz\n",
            "✅ Processed & Deleted batch_384.npz\n",
            "✅ Processed & Deleted batch_400.npz\n",
            "✅ Processed & Deleted batch_416.npz\n",
            "✅ Processed & Deleted batch_432.npz\n",
            "✅ Processed & Deleted batch_448.npz\n",
            "✅ Processed & Deleted batch_464.npz\n",
            "✅ Processed & Deleted batch_48.npz\n",
            "✅ Processed & Deleted batch_480.npz\n",
            "✅ Processed & Deleted batch_496.npz\n",
            "✅ Processed & Deleted batch_512.npz\n",
            "✅ Processed & Deleted batch_528.npz\n",
            "✅ Processed & Deleted batch_544.npz\n",
            "✅ Processed & Deleted batch_560.npz\n",
            "✅ Processed & Deleted batch_576.npz\n",
            "✅ Processed & Deleted batch_592.npz\n",
            "✅ Processed & Deleted batch_608.npz\n",
            "✅ Processed & Deleted batch_624.npz\n",
            "✅ Processed & Deleted batch_64.npz\n",
            "✅ Processed & Deleted batch_640.npz\n",
            "✅ Processed & Deleted batch_656.npz\n",
            "✅ Processed & Deleted batch_672.npz\n",
            "✅ Processed & Deleted batch_688.npz\n",
            "✅ Processed & Deleted batch_704.npz\n",
            "✅ Processed & Deleted batch_720.npz\n",
            "✅ Processed & Deleted batch_736.npz\n"
          ]
        },
        {
          "name": "stderr",
          "output_type": "stream",
          "text": [
            "/usr/local/lib/python3.11/dist-packages/sklearn/metrics/_ranking.py:1033: UserWarning: No positive class found in y_true, recall is set to one for all thresholds.\n",
            "  warnings.warn(\n"
          ]
        },
        {
          "name": "stdout",
          "output_type": "stream",
          "text": [
            "✅ Processed & Deleted batch_752.npz\n"
          ]
        },
        {
          "name": "stderr",
          "output_type": "stream",
          "text": [
            "/usr/local/lib/python3.11/dist-packages/sklearn/metrics/_ranking.py:1033: UserWarning: No positive class found in y_true, recall is set to one for all thresholds.\n",
            "  warnings.warn(\n"
          ]
        },
        {
          "name": "stdout",
          "output_type": "stream",
          "text": [
            "✅ Processed & Deleted batch_768.npz\n",
            "✅ Processed & Deleted batch_784.npz\n",
            "✅ Processed & Deleted batch_80.npz\n",
            "✅ Processed & Deleted batch_800.npz\n",
            "✅ Processed & Deleted batch_816.npz\n",
            "✅ Processed & Deleted batch_832.npz\n",
            "✅ Processed & Deleted batch_848.npz\n",
            "✅ Processed & Deleted batch_864.npz\n",
            "✅ Processed & Deleted batch_880.npz\n",
            "✅ Processed & Deleted batch_896.npz\n",
            "✅ Processed & Deleted batch_912.npz\n",
            "✅ Processed & Deleted batch_928.npz\n",
            "✅ Processed & Deleted batch_944.npz\n",
            "✅ Processed & Deleted batch_96.npz\n",
            "✅ Processed & Deleted batch_960.npz\n",
            "✅ Processed & Deleted batch_976.npz\n",
            "✅ Processed & Deleted batch_992.npz\n",
            "✅ Final performance metrics saved to Google Drive: /content/drive/MyDrive/evaluation_results.txt\n"
          ]
        }
      ],
      "source": [
        "import os\n",
        "import numpy as np\n",
        "import pickle\n",
        "from nltk.translate.bleu_score import sentence_bleu, SmoothingFunction\n",
        "from rouge_score import rouge_scorer\n",
        "from sklearn.metrics import precision_recall_fscore_support, average_precision_score\n",
        "\n",
        "# ✅ Load y_test & Tokenizer\n",
        "with open(\"/content/drive/MyDrive/y_test.pkl\", \"rb\") as f:\n",
        "    y_test = pickle.load(f)\n",
        "with open(\"/content/drive/MyDrive/answer_tokenizer.pkl\", \"rb\") as f:\n",
        "    answer_tokenizer = pickle.load(f)\n",
        "\n",
        "# ✅ Initialize Score Lists\n",
        "bleu_scores, f1_scores, map_scores, mrr_scores = [], [], [], []\n",
        "rouge_scores = {'rouge1': [], 'rouge2': [], 'rougeL': []}\n",
        "rouge = rouge_scorer.RougeScorer(['rouge1', 'rouge2', 'rougeL'], use_stemmer=True)\n",
        "\n",
        "# ✅ Load each batch, compute scores, and delete after processing\n",
        "predictions_path = \"/content/drive/MyDrive/predictions_batches\"\n",
        "batches = sorted(os.listdir(predictions_path))\n",
        "\n",
        "for batch_file in batches:\n",
        "    batch_index = int(batch_file.split(\"_\")[-1].split(\".\")[0])  # Extract batch index\n",
        "    batch_data = np.load(os.path.join(predictions_path, batch_file))[\"predictions\"]\n",
        "\n",
        "    # ✅ Handle last batch properly (it might have fewer samples)\n",
        "    batch_y_true = y_test[batch_index:batch_index + len(batch_data)]\n",
        "\n",
        "    if len(batch_y_true) != len(batch_data):\n",
        "        print(f\"⚠️ Mismatch in batch {batch_file}: {len(batch_y_true)} vs {len(batch_data)}\")\n",
        "        continue  # Skip this batch if misaligned\n",
        "\n",
        "    for true_seq, pred_seq in zip(batch_y_true, batch_data):\n",
        "        true_tokens = list(set(true_seq[:150]) - {0})  # Convert to list\n",
        "        pred_tokens = list(set(np.argmax(pred_seq, axis=-1)) - {0})\n",
        "\n",
        "        # ✅ Ensure same length for true & predicted tokens\n",
        "        max_len = min(len(true_tokens), len(pred_tokens))\n",
        "        true_tokens = true_tokens[:max_len]\n",
        "        pred_tokens = pred_tokens[:max_len]\n",
        "\n",
        "        # ✅ Compute Scores\n",
        "        bleu = sentence_bleu([true_tokens], pred_tokens, smoothing_function=SmoothingFunction().method1)\n",
        "        rouge_results = rouge.score(' '.join(map(str, true_tokens)), ' '.join(map(str, pred_tokens)))\n",
        "\n",
        "        # ✅ Fix f1_score error\n",
        "        precision, recall, f1, _ = precision_recall_fscore_support(\n",
        "            true_tokens, pred_tokens, average='macro', zero_division=0\n",
        "        )\n",
        "\n",
        "        map_score = average_precision_score(\n",
        "            [1 if tok in true_tokens else 0 for tok in pred_tokens],\n",
        "            [1] * len(pred_tokens)\n",
        "        )\n",
        "        mrr = max([1 / (1 + rank) for rank, tok in enumerate(pred_tokens) if tok in true_tokens], default=0)\n",
        "\n",
        "        # ✅ Store Scores\n",
        "        bleu_scores.append(bleu)\n",
        "        for metric in rouge_scores.keys():\n",
        "            rouge_scores[metric].append(rouge_results[metric].fmeasure)\n",
        "        f1_scores.append(f1)\n",
        "        map_scores.append(map_score)\n",
        "        mrr_scores.append(mrr)\n",
        "\n",
        "    # ✅ Delete batch file after processing\n",
        "    os.remove(os.path.join(predictions_path, batch_file))\n",
        "    print(f\"✅ Processed & Deleted {batch_file}\")\n",
        "\n",
        "# ✅ Compute Final Averages\n",
        "final_bleu = np.mean(bleu_scores)\n",
        "final_rouge = {k: np.mean(v) for k, v in rouge_scores.items()}\n",
        "final_f1 = np.mean(f1_scores)\n",
        "final_map = np.mean(map_scores)\n",
        "final_mrr = np.mean(mrr_scores)\n",
        "\n",
        "# ✅ Save Results to Google Drive\n",
        "results_path = \"/content/drive/MyDrive/evaluation_results.txt\"\n",
        "with open(results_path, \"w\") as f:\n",
        "    f.write(f\"BLEU Score: {final_bleu:.4f}\\n\")\n",
        "    f.write(f\"ROUGE Scores: {final_rouge}\\n\")\n",
        "    f.write(f\"F1-Score: {final_f1:.4f}\\n\")\n",
        "    f.write(f\"MAP Score: {final_map:.4f}\\n\")\n",
        "    f.write(f\"MRR Score: {final_mrr:.4f}\\n\")\n",
        "\n",
        "print(f\"✅ Final performance metrics saved to Google Drive: {results_path}\")\n"
      ]
    },
    {
      "cell_type": "code",
      "execution_count": null,
      "metadata": {
        "colab": {
          "base_uri": "https://localhost:8080/"
        },
        "id": "-ysbgQARgRcP",
        "outputId": "2df84893-8cb2-455e-c0eb-737bf5292835"
      },
      "outputs": [
        {
          "name": "stdout",
          "output_type": "stream",
          "text": [
            "📊 Final Evaluation Results:\n",
            " BLEU Score: 0.3108\n",
            "ROUGE Scores: {'rouge1': 0.6015205280596936, 'rouge2': 0.35333468654223305, 'rougeL': 0.5644238266352605}\n",
            "F1-Score: 0.2342\n",
            "MAP Score: 0.6015\n",
            "MRR Score: 0.8613\n",
            "\n"
          ]
        }
      ],
      "source": [
        "results_path = \"/content/drive/MyDrive/evaluation_results.txt\"\n",
        "\n",
        "# ✅ Print the results\n",
        "with open(results_path, \"r\") as f:\n",
        "    results = f.read()\n",
        "    print(\"📊 Final Evaluation Results:\\n\", results)\n"
      ]
    },
    {
      "cell_type": "code",
      "execution_count": null,
      "metadata": {
        "colab": {
          "base_uri": "https://localhost:8080/"
        },
        "id": "yRiLXai6fxrU",
        "outputId": "88ad8251-1eee-45ea-cc25-2af53dfbd9d3"
      },
      "outputs": [
        {
          "name": "stdout",
          "output_type": "stream",
          "text": [
            "✅ **Beam Search Answer:** kidneys are two beanshaped organs each about the size and shape for a fist they are located just just below the rib cage one on each\n"
          ]
        }
      ],
      "source": [
        "import numpy as np\n",
        "\n",
        "def beam_search_decoder(input_seq, beam_width=3):\n",
        "    # ✅ Tokenize and pad the question\n",
        "    padded_seq = pad_sequences(question_tokenizer.texts_to_sequences([input_seq]), maxlen=max_question_length, padding='post')\n",
        "\n",
        "    # ✅ Initialize decoder input with <START> token (Assuming 2 is <START>)\n",
        "    decoder_input = np.zeros((1, max_answer_length - 1))\n",
        "    decoder_input[0, 0] = 2  # Start token\n",
        "\n",
        "    sequences = [[[], 1.0]]  # Start with empty sequence & score of 1.0\n",
        "\n",
        "    for i in range(min(max_answer_length - 1, len(padded_seq[0]))):\n",
        "        all_candidates = []\n",
        "        for seq, score in sequences:\n",
        "            prediction = model.predict([padded_seq, decoder_input], verbose=0)\n",
        "            top_candidates = np.argsort(prediction[0, i])[-beam_width:]  # ✅ Select top-k tokens\n",
        "\n",
        "            for token in top_candidates:\n",
        "                if token == 3:  # Stop if `<END>` token is generated (Assuming 3 is <END>)\n",
        "                    continue\n",
        "\n",
        "                new_seq = seq + [token]\n",
        "                new_score = score * prediction[0, i, token]  # Multiply probabilities\n",
        "                all_candidates.append([new_seq, new_score])\n",
        "\n",
        "        if not all_candidates:  # ✅ If no valid candidates, return <No response>\n",
        "            return \"<No response>\"\n",
        "\n",
        "        # ✅ Keep only top `beam_width` sequences\n",
        "        sequences = sorted(all_candidates, key=lambda x: x[1], reverse=True)[:beam_width]\n",
        "        decoder_input[0, len(sequences[0][0])] = sequences[0][0][-1]  # ✅ Update decoder input\n",
        "\n",
        "    # ✅ Convert token IDs back to words\n",
        "    predicted_tokens = sequences[0][0]\n",
        "    predicted_text = ' '.join([answer_tokenizer.index_word.get(token, \"<UNK>\") for token in predicted_tokens if token > 0])\n",
        "\n",
        "    return predicted_text if predicted_text else \"<No response>\"\n",
        "\n",
        "# ✅ Test Beam Search with the Fix\n",
        "question = \"what is kidney\"\n",
        "answer = beam_search_decoder(question, beam_width=5)\n",
        "print(f\"✅ **Beam Search Answer:** {answer}\")\n"
      ]
    }
  ],
  "metadata": {
    "accelerator": "GPU",
    "colab": {
      "gpuType": "A100",
      "provenance": []
    },
    "kernelspec": {
      "display_name": "Python 3",
      "name": "python3"
    },
    "language_info": {
      "name": "python"
    }
  },
  "nbformat": 4,
  "nbformat_minor": 0
}
